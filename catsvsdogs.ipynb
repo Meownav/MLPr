{
 "cells": [
  {
   "cell_type": "code",
   "execution_count": 1,
   "id": "f387d989",
   "metadata": {
    "execution": {
     "iopub.execute_input": "2024-02-29T10:01:03.862034Z",
     "iopub.status.busy": "2024-02-29T10:01:03.861738Z",
     "iopub.status.idle": "2024-02-29T10:01:12.948436Z",
     "shell.execute_reply": "2024-02-29T10:01:12.947574Z"
    },
    "papermill": {
     "duration": 9.100021,
     "end_time": "2024-02-29T10:01:12.950845",
     "exception": false,
     "start_time": "2024-02-29T10:01:03.850824",
     "status": "completed"
    },
    "tags": []
   },
   "outputs": [],
   "source": [
    "import os\n",
    "from PIL import Image\n",
    "import numpy as np\n",
    "import pandas as pd\n",
    "import cv2\n",
    "import torch\n",
    "import torch.optim as optim\n",
    "import torch.nn as nn\n",
    "import torch.nn.functional as F\n",
    "from torch.utils.data import DataLoader, TensorDataset, ConcatDataset, Dataset\n",
    "from torchvision import transforms\n",
    "from sklearn.model_selection import train_test_split\n",
    "import matplotlib.pyplot as plt"
   ]
  },
  {
   "cell_type": "code",
   "execution_count": 2,
   "id": "7dc88d6c",
   "metadata": {
    "execution": {
     "iopub.execute_input": "2024-02-29T10:01:12.970101Z",
     "iopub.status.busy": "2024-02-29T10:01:12.969627Z",
     "iopub.status.idle": "2024-02-29T10:06:09.506572Z",
     "shell.execute_reply": "2024-02-29T10:06:09.505253Z"
    },
    "papermill": {
     "duration": 296.549043,
     "end_time": "2024-02-29T10:06:09.509318",
     "exception": false,
     "start_time": "2024-02-29T10:01:12.960275",
     "status": "completed"
    },
    "tags": []
   },
   "outputs": [],
   "source": [
    "!cp /kaggle/input/* /kaggle/working -r"
   ]
  },
  {
   "cell_type": "code",
   "execution_count": 3,
   "id": "5ce044e2",
   "metadata": {
    "execution": {
     "iopub.execute_input": "2024-02-29T10:06:09.527902Z",
     "iopub.status.busy": "2024-02-29T10:06:09.527574Z",
     "iopub.status.idle": "2024-02-29T10:06:09.532532Z",
     "shell.execute_reply": "2024-02-29T10:06:09.531674Z"
    },
    "papermill": {
     "duration": 0.016249,
     "end_time": "2024-02-29T10:06:09.534360",
     "exception": false,
     "start_time": "2024-02-29T10:06:09.518111",
     "status": "completed"
    },
    "tags": []
   },
   "outputs": [],
   "source": [
    "cats_dir = \"/kaggle/working/microsoft-catsvsdogs-dataset/PetImages/Cat\"\n",
    "dogs_dir = \"/kaggle/working/microsoft-catsvsdogs-dataset/PetImages/Dog\""
   ]
  },
  {
   "cell_type": "code",
   "execution_count": 4,
   "id": "c34d2dcd",
   "metadata": {
    "execution": {
     "iopub.execute_input": "2024-02-29T10:06:09.552534Z",
     "iopub.status.busy": "2024-02-29T10:06:09.551959Z",
     "iopub.status.idle": "2024-02-29T10:06:09.556556Z",
     "shell.execute_reply": "2024-02-29T10:06:09.555727Z"
    },
    "papermill": {
     "duration": 0.015535,
     "end_time": "2024-02-29T10:06:09.558449",
     "exception": false,
     "start_time": "2024-02-29T10:06:09.542914",
     "status": "completed"
    },
    "tags": []
   },
   "outputs": [],
   "source": [
    "img_size = 256\n",
    "apply_transform = transforms.Compose([\n",
    "    transforms.Resize((img_size, img_size)),\n",
    "    transforms.ToTensor(),\n",
    "])"
   ]
  },
  {
   "cell_type": "code",
   "execution_count": 5,
   "id": "855a2e8d",
   "metadata": {
    "execution": {
     "iopub.execute_input": "2024-02-29T10:06:09.576073Z",
     "iopub.status.busy": "2024-02-29T10:06:09.575781Z",
     "iopub.status.idle": "2024-02-29T10:06:09.581305Z",
     "shell.execute_reply": "2024-02-29T10:06:09.580475Z"
    },
    "papermill": {
     "duration": 0.016485,
     "end_time": "2024-02-29T10:06:09.583207",
     "exception": false,
     "start_time": "2024-02-29T10:06:09.566722",
     "status": "completed"
    },
    "tags": []
   },
   "outputs": [],
   "source": [
    "def removeCorruptImages(paths):\n",
    "    for path in paths:\n",
    "        for filename in os.listdir(path):  \n",
    "            try:\n",
    "                Image.open(os.path.join(path, filename))  \n",
    "            except (IOError, OSError):  \n",
    "                print(f\"Removed: {os.path.join(path, filename)}\")\n",
    "                os.remove(os.path.join(path, filename))  \n"
   ]
  },
  {
   "cell_type": "code",
   "execution_count": 6,
   "id": "ef564058",
   "metadata": {
    "execution": {
     "iopub.execute_input": "2024-02-29T10:06:09.600942Z",
     "iopub.status.busy": "2024-02-29T10:06:09.600688Z",
     "iopub.status.idle": "2024-02-29T10:06:13.302122Z",
     "shell.execute_reply": "2024-02-29T10:06:13.301413Z"
    },
    "papermill": {
     "duration": 3.712596,
     "end_time": "2024-02-29T10:06:13.304194",
     "exception": false,
     "start_time": "2024-02-29T10:06:09.591598",
     "status": "completed"
    },
    "tags": []
   },
   "outputs": [
    {
     "name": "stdout",
     "output_type": "stream",
     "text": [
      "Removed: /kaggle/working/microsoft-catsvsdogs-dataset/PetImages/Cat/666.jpg\n",
      "Removed: /kaggle/working/microsoft-catsvsdogs-dataset/PetImages/Cat/Thumbs.db\n",
      "Removed: /kaggle/working/microsoft-catsvsdogs-dataset/PetImages/Dog/Thumbs.db\n"
     ]
    },
    {
     "name": "stderr",
     "output_type": "stream",
     "text": [
      "/opt/conda/lib/python3.10/site-packages/PIL/TiffImagePlugin.py:864: UserWarning: Truncated File Read\n",
      "  warnings.warn(str(msg))\n"
     ]
    },
    {
     "name": "stdout",
     "output_type": "stream",
     "text": [
      "Removed: /kaggle/working/microsoft-catsvsdogs-dataset/PetImages/Dog/11702.jpg\n"
     ]
    }
   ],
   "source": [
    "removeCorruptImages([cats_dir, dogs_dir])"
   ]
  },
  {
   "cell_type": "code",
   "execution_count": 7,
   "id": "58d63bc5",
   "metadata": {
    "execution": {
     "iopub.execute_input": "2024-02-29T10:06:13.323182Z",
     "iopub.status.busy": "2024-02-29T10:06:13.322896Z",
     "iopub.status.idle": "2024-02-29T10:06:13.329382Z",
     "shell.execute_reply": "2024-02-29T10:06:13.328498Z"
    },
    "papermill": {
     "duration": 0.018002,
     "end_time": "2024-02-29T10:06:13.331331",
     "exception": false,
     "start_time": "2024-02-29T10:06:13.313329",
     "status": "completed"
    },
    "tags": []
   },
   "outputs": [],
   "source": [
    "class LazyImgLoader(Dataset):\n",
    "    def __init__(self, path, label, transforms=None):\n",
    "        self.path = path\n",
    "        self.label = label\n",
    "        self.transforms = transforms\n",
    "        self.total_len = len(os.listdir(path))\n",
    "\n",
    "    def __len__(self):\n",
    "        return self.total_len\n",
    "\n",
    "    def __getitem__(self, idx):\n",
    "        img = Image.open(os.path.join(self.path, os.listdir(self.path)[idx]))\n",
    "        img = img.convert(\"RGB\")\n",
    "        if self.transforms:\n",
    "            img = self.transforms(img)\n",
    "        return img, self.label"
   ]
  },
  {
   "cell_type": "code",
   "execution_count": 8,
   "id": "56442c34",
   "metadata": {
    "execution": {
     "iopub.execute_input": "2024-02-29T10:06:13.350427Z",
     "iopub.status.busy": "2024-02-29T10:06:13.350152Z",
     "iopub.status.idle": "2024-02-29T10:06:13.367830Z",
     "shell.execute_reply": "2024-02-29T10:06:13.366997Z"
    },
    "papermill": {
     "duration": 0.029268,
     "end_time": "2024-02-29T10:06:13.369867",
     "exception": false,
     "start_time": "2024-02-29T10:06:13.340599",
     "status": "completed"
    },
    "tags": []
   },
   "outputs": [],
   "source": [
    "cat_dataset = LazyImgLoader(cats_dir, 0, transforms = apply_transform)\n",
    "dog_dataset = LazyImgLoader(dogs_dir, 1, transforms = apply_transform)"
   ]
  },
  {
   "cell_type": "code",
   "execution_count": 9,
   "id": "68480a62",
   "metadata": {
    "execution": {
     "iopub.execute_input": "2024-02-29T10:06:13.389002Z",
     "iopub.status.busy": "2024-02-29T10:06:13.388683Z",
     "iopub.status.idle": "2024-02-29T10:06:13.393655Z",
     "shell.execute_reply": "2024-02-29T10:06:13.392465Z"
    },
    "papermill": {
     "duration": 0.017253,
     "end_time": "2024-02-29T10:06:13.396308",
     "exception": false,
     "start_time": "2024-02-29T10:06:13.379055",
     "status": "completed"
    },
    "tags": []
   },
   "outputs": [],
   "source": [
    "combined_dataset = ConcatDataset([cat_dataset, dog_dataset])\n",
    "del cat_dataset\n",
    "del dog_dataset"
   ]
  },
  {
   "cell_type": "code",
   "execution_count": 10,
   "id": "7c2fdabc",
   "metadata": {
    "execution": {
     "iopub.execute_input": "2024-02-29T10:06:13.418630Z",
     "iopub.status.busy": "2024-02-29T10:06:13.418347Z",
     "iopub.status.idle": "2024-02-29T10:10:30.874316Z",
     "shell.execute_reply": "2024-02-29T10:10:30.873468Z"
    },
    "papermill": {
     "duration": 257.469748,
     "end_time": "2024-02-29T10:10:30.877066",
     "exception": false,
     "start_time": "2024-02-29T10:06:13.407318",
     "status": "completed"
    },
    "tags": []
   },
   "outputs": [],
   "source": [
    "train_set, test_set = train_test_split(combined_dataset, shuffle = True, test_size = 0.2)\n",
    "del combined_dataset"
   ]
  },
  {
   "cell_type": "code",
   "execution_count": 11,
   "id": "67a83462",
   "metadata": {
    "execution": {
     "iopub.execute_input": "2024-02-29T10:10:30.896697Z",
     "iopub.status.busy": "2024-02-29T10:10:30.896381Z",
     "iopub.status.idle": "2024-02-29T10:10:30.906540Z",
     "shell.execute_reply": "2024-02-29T10:10:30.905674Z"
    },
    "papermill": {
     "duration": 0.022114,
     "end_time": "2024-02-29T10:10:30.908394",
     "exception": false,
     "start_time": "2024-02-29T10:10:30.886280",
     "status": "completed"
    },
    "tags": []
   },
   "outputs": [],
   "source": [
    "train_set, val_set = train_test_split(train_set, shuffle = True, test_size = 0.12)"
   ]
  },
  {
   "cell_type": "code",
   "execution_count": 12,
   "id": "e5ec10a1",
   "metadata": {
    "execution": {
     "iopub.execute_input": "2024-02-29T10:10:30.927336Z",
     "iopub.status.busy": "2024-02-29T10:10:30.927006Z",
     "iopub.status.idle": "2024-02-29T10:10:31.026178Z",
     "shell.execute_reply": "2024-02-29T10:10:31.025280Z"
    },
    "papermill": {
     "duration": 0.110851,
     "end_time": "2024-02-29T10:10:31.028310",
     "exception": false,
     "start_time": "2024-02-29T10:10:30.917459",
     "status": "completed"
    },
    "tags": []
   },
   "outputs": [
    {
     "name": "stdout",
     "output_type": "stream",
     "text": [
      "cuda\n"
     ]
    }
   ],
   "source": [
    "batch_size = 64\n",
    "in_channels = 3\n",
    "learning_rate = 3e-4\n",
    "num_epochs = 5\n",
    "device = torch.device(\"cuda\" if torch.cuda.is_available() else \"cpu\")\n",
    "print(\"cuda\" if torch.cuda.is_available() else \"cpu\")"
   ]
  },
  {
   "cell_type": "code",
   "execution_count": 13,
   "id": "afdc2997",
   "metadata": {
    "execution": {
     "iopub.execute_input": "2024-02-29T10:10:31.047631Z",
     "iopub.status.busy": "2024-02-29T10:10:31.047363Z",
     "iopub.status.idle": "2024-02-29T10:10:31.052821Z",
     "shell.execute_reply": "2024-02-29T10:10:31.052149Z"
    },
    "papermill": {
     "duration": 0.017051,
     "end_time": "2024-02-29T10:10:31.054670",
     "exception": false,
     "start_time": "2024-02-29T10:10:31.037619",
     "status": "completed"
    },
    "tags": []
   },
   "outputs": [],
   "source": [
    "train_loader = DataLoader(train_set, shuffle=True, batch_size=batch_size)\n",
    "val_loader = DataLoader(val_set, shuffle=False, batch_size=batch_size)\n",
    "test_loader = DataLoader(test_set, shuffle=False, batch_size=batch_size)"
   ]
  },
  {
   "cell_type": "code",
   "execution_count": 14,
   "id": "918bc10e",
   "metadata": {
    "execution": {
     "iopub.execute_input": "2024-02-29T10:10:31.073120Z",
     "iopub.status.busy": "2024-02-29T10:10:31.072885Z",
     "iopub.status.idle": "2024-02-29T10:10:31.083207Z",
     "shell.execute_reply": "2024-02-29T10:10:31.082529Z"
    },
    "papermill": {
     "duration": 0.021509,
     "end_time": "2024-02-29T10:10:31.084984",
     "exception": false,
     "start_time": "2024-02-29T10:10:31.063475",
     "status": "completed"
    },
    "tags": []
   },
   "outputs": [],
   "source": [
    "class CNN(nn.Module):\n",
    "    def __init__(self, in_channels=3, num_classes=2):\n",
    "        super(CNN, self).__init__()\n",
    "        self.conv_layers = nn.Sequential(\n",
    "            nn.Conv2d(in_channels = in_channels, out_channels = 8, kernel_size = (3,3), stride = (1,1), padding = (1,1) ),\n",
    "            nn.ReLU(),\n",
    "            nn.MaxPool2d(kernel_size = (2, 2), stride = (2, 2)),\n",
    "            \n",
    "            nn.Conv2d(in_channels = 8, out_channels = 32, kernel_size = (3,3), stride = (1, 1), padding = (1, 1)),\n",
    "            nn.ReLU(),\n",
    "            nn.MaxPool2d(kernel_size = (2, 2), stride = (2, 2)),\n",
    "                        \n",
    "            nn.Conv2d(in_channels = 32, out_channels = 16, kernel_size = (3,3), stride = (1, 1), padding = (1, 1)),\n",
    "            nn.ReLU(),\n",
    "            nn.MaxPool2d(kernel_size = (2, 2), stride = (2, 2)),\n",
    "        )\n",
    "    \n",
    "        self.lin_layers = nn.Sequential(\n",
    "            nn.Linear(16 * 32 * 32, 4096),\n",
    "            nn.ReLU(),\n",
    "            nn.Dropout(0.4),\n",
    "            nn.Linear(4096,1024),\n",
    "            nn.ReLU(),\n",
    "            nn.Linear(1024, 128),\n",
    "            nn.Dropout(0.4),\n",
    "            nn.ReLU(),\n",
    "            nn.Linear(128, 32),\n",
    "            nn.Dropout(0.4),\n",
    "            nn.Linear(32, 2),\n",
    "            nn.ReLU()\n",
    "        )\n",
    "        \n",
    "    def forward(self, x):\n",
    "        x = self.conv_layers(x)\n",
    "        x = x.view(x.size(0), -1)\n",
    "        x = self.lin_layers(x)\n",
    "        return x\n"
   ]
  },
  {
   "cell_type": "code",
   "execution_count": 15,
   "id": "12d9b6a3",
   "metadata": {
    "execution": {
     "iopub.execute_input": "2024-02-29T10:10:31.103697Z",
     "iopub.status.busy": "2024-02-29T10:10:31.103460Z",
     "iopub.status.idle": "2024-02-29T10:10:31.989235Z",
     "shell.execute_reply": "2024-02-29T10:10:31.988456Z"
    },
    "papermill": {
     "duration": 0.897729,
     "end_time": "2024-02-29T10:10:31.991531",
     "exception": false,
     "start_time": "2024-02-29T10:10:31.093802",
     "status": "completed"
    },
    "tags": []
   },
   "outputs": [],
   "source": [
    "model = CNN().to(device)\n",
    "model = torch.nn.DataParallel(model)\n"
   ]
  },
  {
   "cell_type": "code",
   "execution_count": 16,
   "id": "940f79ba",
   "metadata": {
    "execution": {
     "iopub.execute_input": "2024-02-29T10:10:32.010349Z",
     "iopub.status.busy": "2024-02-29T10:10:32.010052Z",
     "iopub.status.idle": "2024-02-29T10:10:32.014496Z",
     "shell.execute_reply": "2024-02-29T10:10:32.013724Z"
    },
    "papermill": {
     "duration": 0.015696,
     "end_time": "2024-02-29T10:10:32.016277",
     "exception": false,
     "start_time": "2024-02-29T10:10:32.000581",
     "status": "completed"
    },
    "tags": []
   },
   "outputs": [],
   "source": [
    "criterion = nn.CrossEntropyLoss()\n",
    "optimizer = optim.Adam(model.parameters(), lr = learning_rate)"
   ]
  },
  {
   "cell_type": "code",
   "execution_count": 17,
   "id": "e4117603",
   "metadata": {
    "execution": {
     "iopub.execute_input": "2024-02-29T10:10:32.034646Z",
     "iopub.status.busy": "2024-02-29T10:10:32.034410Z",
     "iopub.status.idle": "2024-02-29T10:13:56.235884Z",
     "shell.execute_reply": "2024-02-29T10:13:56.234906Z"
    },
    "papermill": {
     "duration": 204.221522,
     "end_time": "2024-02-29T10:13:56.246406",
     "exception": false,
     "start_time": "2024-02-29T10:10:32.024884",
     "status": "completed"
    },
    "tags": []
   },
   "outputs": [
    {
     "name": "stdout",
     "output_type": "stream",
     "text": [
      "0\n",
      "Validation loss:  {0.6522720424752486}\n",
      "\n",
      "None\n",
      "Validation loss:  {0.5928411201426858}\n",
      "\n",
      "None\n",
      "Validation loss:  {0.5467241265271839}\n",
      "\n",
      "None\n",
      "Validation loss:  {0.5118651052838877}\n",
      "\n",
      "None\n",
      "Validation loss:  {0.49458622226589605}\n"
     ]
    }
   ],
   "source": [
    "for epoch in range(num_epochs):\n",
    "    epoch_loss = 0;\n",
    "    print(epoch if epoch % 5 == 0 else print(\"\"))\n",
    "    model.train()\n",
    "    for (data, labels) in train_loader:\n",
    "        data = data.to(device)\n",
    "        labels = labels.to(device)\n",
    "\n",
    "        scores = model(data)\n",
    "        loss = criterion(scores, labels)\n",
    "\n",
    "        optimizer.zero_grad()\n",
    "        loss.backward()\n",
    "\n",
    "        optimizer.step()\n",
    "\n",
    "        epoch_loss += loss.item()\n",
    "            \n",
    "    model.eval()\n",
    "    val_loss = 0.0\n",
    "    correct = 0\n",
    "    total = 0\n",
    "    with torch.no_grad():\n",
    "        for (data, labels) in val_loader:\n",
    "            data = data.to(device)\n",
    "            labels = labels.to(device)\n",
    "            \n",
    "            scores = model(data)\n",
    "            loss = criterion(scores, labels)\n",
    "            \n",
    "            val_loss += loss.item()\n",
    "            _, pred = scores.max(1)\n",
    "            total += labels.size(0)\n",
    "            correct += (labels == pred).sum()\n",
    "            \n",
    "        val_loss /= len(val_loader)\n",
    "        print(f\"Validation loss: \",{val_loss})\n",
    "#     scheduler.step(val_loss)\n",
    "    "
   ]
  },
  {
   "cell_type": "code",
   "execution_count": 18,
   "id": "0fa3996b",
   "metadata": {
    "execution": {
     "iopub.execute_input": "2024-02-29T10:13:56.266213Z",
     "iopub.status.busy": "2024-02-29T10:13:56.265897Z",
     "iopub.status.idle": "2024-02-29T10:13:56.272015Z",
     "shell.execute_reply": "2024-02-29T10:13:56.271122Z"
    },
    "papermill": {
     "duration": 0.018228,
     "end_time": "2024-02-29T10:13:56.273892",
     "exception": false,
     "start_time": "2024-02-29T10:13:56.255664",
     "status": "completed"
    },
    "tags": []
   },
   "outputs": [],
   "source": [
    "def check_accuracy(model, loader):\n",
    "    num_samples = 0\n",
    "    num_correct = 0\n",
    "    \n",
    "    model.eval()\n",
    "    \n",
    "    with torch.no_grad():\n",
    "        for data, labels in loader:\n",
    "            data = data.to(device)\n",
    "            labels = labels.to(device)\n",
    "            \n",
    "            scores = model(data)\n",
    "            \n",
    "            _, pred = scores.max(1)\n",
    "            num_correct += (pred == labels).sum().item()\n",
    "            num_samples += pred.size(0)\n",
    "    print(f\"Accuracy : {(num_correct / num_samples)*100:.2f}%\")"
   ]
  },
  {
   "cell_type": "code",
   "execution_count": 19,
   "id": "f2332709",
   "metadata": {
    "execution": {
     "iopub.execute_input": "2024-02-29T10:13:56.293793Z",
     "iopub.status.busy": "2024-02-29T10:13:56.293315Z",
     "iopub.status.idle": "2024-02-29T10:14:15.887747Z",
     "shell.execute_reply": "2024-02-29T10:14:15.886742Z"
    },
    "papermill": {
     "duration": 19.606691,
     "end_time": "2024-02-29T10:14:15.889809",
     "exception": false,
     "start_time": "2024-02-29T10:13:56.283118",
     "status": "completed"
    },
    "tags": []
   },
   "outputs": [
    {
     "name": "stdout",
     "output_type": "stream",
     "text": [
      "Accuracy : 81.44%\n"
     ]
    }
   ],
   "source": [
    "check_accuracy(model, train_loader)"
   ]
  },
  {
   "cell_type": "code",
   "execution_count": 20,
   "id": "1cbff060",
   "metadata": {
    "execution": {
     "iopub.execute_input": "2024-02-29T10:14:15.909995Z",
     "iopub.status.busy": "2024-02-29T10:14:15.909701Z",
     "iopub.status.idle": "2024-02-29T10:14:18.597591Z",
     "shell.execute_reply": "2024-02-29T10:14:18.596393Z"
    },
    "papermill": {
     "duration": 2.700671,
     "end_time": "2024-02-29T10:14:18.600015",
     "exception": false,
     "start_time": "2024-02-29T10:14:15.899344",
     "status": "completed"
    },
    "tags": []
   },
   "outputs": [
    {
     "name": "stdout",
     "output_type": "stream",
     "text": [
      "Accuracy : 75.42%\n"
     ]
    }
   ],
   "source": [
    "check_accuracy(model, val_loader)"
   ]
  },
  {
   "cell_type": "code",
   "execution_count": 21,
   "id": "43b15c93",
   "metadata": {
    "execution": {
     "iopub.execute_input": "2024-02-29T10:14:18.623422Z",
     "iopub.status.busy": "2024-02-29T10:14:18.623066Z",
     "iopub.status.idle": "2024-02-29T10:14:24.261351Z",
     "shell.execute_reply": "2024-02-29T10:14:24.260275Z"
    },
    "papermill": {
     "duration": 5.652485,
     "end_time": "2024-02-29T10:14:24.263516",
     "exception": false,
     "start_time": "2024-02-29T10:14:18.611031",
     "status": "completed"
    },
    "tags": []
   },
   "outputs": [
    {
     "name": "stdout",
     "output_type": "stream",
     "text": [
      "Accuracy : 75.82%\n"
     ]
    }
   ],
   "source": [
    "check_accuracy(model, test_loader)"
   ]
  },
  {
   "cell_type": "code",
   "execution_count": null,
   "id": "68d95f9c",
   "metadata": {
    "papermill": {
     "duration": 0.009455,
     "end_time": "2024-02-29T10:14:24.282918",
     "exception": false,
     "start_time": "2024-02-29T10:14:24.273463",
     "status": "completed"
    },
    "tags": []
   },
   "outputs": [],
   "source": []
  },
  {
   "cell_type": "code",
   "execution_count": null,
   "id": "090bc111",
   "metadata": {
    "papermill": {
     "duration": 0.009049,
     "end_time": "2024-02-29T10:14:24.301216",
     "exception": false,
     "start_time": "2024-02-29T10:14:24.292167",
     "status": "completed"
    },
    "tags": []
   },
   "outputs": [],
   "source": []
  },
  {
   "cell_type": "code",
   "execution_count": null,
   "id": "1fdf85bf",
   "metadata": {
    "papermill": {
     "duration": 0.009018,
     "end_time": "2024-02-29T10:14:24.319618",
     "exception": false,
     "start_time": "2024-02-29T10:14:24.310600",
     "status": "completed"
    },
    "tags": []
   },
   "outputs": [],
   "source": []
  },
  {
   "cell_type": "code",
   "execution_count": null,
   "id": "6ebd6795",
   "metadata": {
    "papermill": {
     "duration": 0.009145,
     "end_time": "2024-02-29T10:14:24.337918",
     "exception": false,
     "start_time": "2024-02-29T10:14:24.328773",
     "status": "completed"
    },
    "tags": []
   },
   "outputs": [],
   "source": []
  },
  {
   "cell_type": "code",
   "execution_count": null,
   "id": "b508ff6b",
   "metadata": {
    "papermill": {
     "duration": 0.009003,
     "end_time": "2024-02-29T10:14:24.356068",
     "exception": false,
     "start_time": "2024-02-29T10:14:24.347065",
     "status": "completed"
    },
    "tags": []
   },
   "outputs": [],
   "source": []
  },
  {
   "cell_type": "code",
   "execution_count": null,
   "id": "6b0e1331",
   "metadata": {
    "papermill": {
     "duration": 0.008982,
     "end_time": "2024-02-29T10:14:24.374408",
     "exception": false,
     "start_time": "2024-02-29T10:14:24.365426",
     "status": "completed"
    },
    "tags": []
   },
   "outputs": [],
   "source": []
  },
  {
   "cell_type": "code",
   "execution_count": null,
   "id": "9fe4b5ae",
   "metadata": {
    "papermill": {
     "duration": 0.009061,
     "end_time": "2024-02-29T10:14:24.392643",
     "exception": false,
     "start_time": "2024-02-29T10:14:24.383582",
     "status": "completed"
    },
    "tags": []
   },
   "outputs": [],
   "source": []
  },
  {
   "cell_type": "code",
   "execution_count": null,
   "id": "f0a0c054",
   "metadata": {
    "papermill": {
     "duration": 0.008991,
     "end_time": "2024-02-29T10:14:24.410785",
     "exception": false,
     "start_time": "2024-02-29T10:14:24.401794",
     "status": "completed"
    },
    "tags": []
   },
   "outputs": [],
   "source": []
  },
  {
   "cell_type": "code",
   "execution_count": null,
   "id": "36924431",
   "metadata": {
    "papermill": {
     "duration": 0.00941,
     "end_time": "2024-02-29T10:14:24.429499",
     "exception": false,
     "start_time": "2024-02-29T10:14:24.420089",
     "status": "completed"
    },
    "tags": []
   },
   "outputs": [],
   "source": []
  },
  {
   "cell_type": "code",
   "execution_count": null,
   "id": "56e19836",
   "metadata": {
    "papermill": {
     "duration": 0.009115,
     "end_time": "2024-02-29T10:14:24.448368",
     "exception": false,
     "start_time": "2024-02-29T10:14:24.439253",
     "status": "completed"
    },
    "tags": []
   },
   "outputs": [],
   "source": []
  },
  {
   "cell_type": "code",
   "execution_count": null,
   "id": "eca86282",
   "metadata": {
    "papermill": {
     "duration": 0.009174,
     "end_time": "2024-02-29T10:14:24.466782",
     "exception": false,
     "start_time": "2024-02-29T10:14:24.457608",
     "status": "completed"
    },
    "tags": []
   },
   "outputs": [],
   "source": []
  },
  {
   "cell_type": "code",
   "execution_count": null,
   "id": "d0afb27d",
   "metadata": {
    "papermill": {
     "duration": 0.009139,
     "end_time": "2024-02-29T10:14:24.485287",
     "exception": false,
     "start_time": "2024-02-29T10:14:24.476148",
     "status": "completed"
    },
    "tags": []
   },
   "outputs": [],
   "source": []
  },
  {
   "cell_type": "code",
   "execution_count": null,
   "id": "1afbb849",
   "metadata": {
    "papermill": {
     "duration": 0.009273,
     "end_time": "2024-02-29T10:14:24.503819",
     "exception": false,
     "start_time": "2024-02-29T10:14:24.494546",
     "status": "completed"
    },
    "tags": []
   },
   "outputs": [],
   "source": []
  },
  {
   "cell_type": "code",
   "execution_count": null,
   "id": "0fc69af8",
   "metadata": {
    "papermill": {
     "duration": 0.009074,
     "end_time": "2024-02-29T10:14:24.522096",
     "exception": false,
     "start_time": "2024-02-29T10:14:24.513022",
     "status": "completed"
    },
    "tags": []
   },
   "outputs": [],
   "source": []
  },
  {
   "cell_type": "code",
   "execution_count": null,
   "id": "04f88d43",
   "metadata": {
    "papermill": {
     "duration": 0.009128,
     "end_time": "2024-02-29T10:14:24.540534",
     "exception": false,
     "start_time": "2024-02-29T10:14:24.531406",
     "status": "completed"
    },
    "tags": []
   },
   "outputs": [],
   "source": []
  }
 ],
 "metadata": {
  "kaggle": {
   "accelerator": "nvidiaTeslaT4",
   "dataSources": [
    {
     "datasetId": 550917,
     "sourceId": 1003830,
     "sourceType": "datasetVersion"
    }
   ],
   "dockerImageVersionId": 30513,
   "isGpuEnabled": true,
   "isInternetEnabled": true,
   "language": "python",
   "sourceType": "notebook"
  },
  "kernelspec": {
   "display_name": "Python 3",
   "language": "python",
   "name": "python3"
  },
  "language_info": {
   "codemirror_mode": {
    "name": "ipython",
    "version": 3
   },
   "file_extension": ".py",
   "mimetype": "text/x-python",
   "name": "python",
   "nbconvert_exporter": "python",
   "pygments_lexer": "ipython3",
   "version": "3.10.10"
  },
  "papermill": {
   "default_parameters": {},
   "duration": 818.904365,
   "end_time": "2024-02-29T10:14:28.431100",
   "environment_variables": {},
   "exception": null,
   "input_path": "__notebook__.ipynb",
   "output_path": "__notebook__.ipynb",
   "parameters": {},
   "start_time": "2024-02-29T10:00:49.526735",
   "version": "2.4.0"
  }
 },
 "nbformat": 4,
 "nbformat_minor": 5
}
